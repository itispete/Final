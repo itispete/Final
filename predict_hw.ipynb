{
 "cells": [
  {
   "cell_type": "code",
   "execution_count": 1,
   "metadata": {},
   "outputs": [
    {
     "name": "stderr",
     "output_type": "stream",
     "text": [
      "Using TensorFlow backend.\n"
     ]
    }
   ],
   "source": [
    "from scipy.misc import imsave, imread, imresize\n",
    "import numpy as np\n",
    "import argparse\n",
    "from keras.models import model_from_yaml\n",
    "import re\n",
    "import base64\n",
    "import pickle\n",
    "import tensorflow as tf"
   ]
  },
  {
   "cell_type": "code",
   "execution_count": 2,
   "metadata": {},
   "outputs": [
    {
     "name": "stdout",
     "output_type": "stream",
     "text": [
      "Tensor(\"DecodePng:0\", shape=(?, ?, ?), dtype=uint8)\n"
     ]
    }
   ],
   "source": [
    "x = ['O:\\\\Data\\\\HORUS\\\\img_test.png']\n",
    "\n",
    "filename_queue = tf.train.string_input_producer(['O:\\\\Data\\\\HORUS\\\\img_test.png'])\n",
    "reader = tf.WholeFileReader()\n",
    "key, value = reader.read(filename_queue)\n",
    "\n",
    "my_img = tf.image.decode_png('O:\\\\Data\\\\HORUS\\\\img_test.png')\n",
    "\n",
    "print(my_img)"
   ]
  },
  {
   "cell_type": "code",
   "execution_count": 3,
   "metadata": {
    "scrolled": true
   },
   "outputs": [
    {
     "name": "stdout",
     "output_type": "stream",
     "text": [
      "[[ 0  0  0  0  0  0  0  0  0  0  0  0  0  0  0  0  0  0  0]\n",
      " [ 0  0  0  0  0  0  0  0  0  0  0  0  0  0  0  0  0  0  0]\n",
      " [ 0  0  0  0  0  0  0  0  0  0  0  0  0  0  0  0  0  0  0]\n",
      " [ 0  0  0  0  2  4  6  8  9  7  5  2  0  0  0  0  0  0  0]\n",
      " [ 0  0  1 20 51 64 73 83 83 80 70 51 20  1  0  0  0  0  0]\n",
      " [ 0  0  1 32 56 43 29 18 17 25 41 67 78 25  0  0  0  0  0]\n",
      " [ 0  0  0  1  1 35 38  0  0  0  0  3 32 60  7  0  0  0  0]\n",
      " [ 0  0  0  0  0 39 72  0  0  0  0  0  7 51 18  0  0  0  0]\n",
      " [ 0  0  0  0  0 19 86  5  0  0  0  0 12 57 14  0  0  0  0]\n",
      " [ 0  0  0  0  0  6 81 18  0  0  0  5 46 55  3  0  0  0  0]\n",
      " [ 0  0  0  0  0  3 73 65 38 43 56 72 60 14  0  0  0  0  0]\n",
      " [ 0  0  0  0  0  3 68 89 48 45 33 12  2  0  0  0  0  0  0]\n",
      " [ 0  0  0  0  0  1 50 70  2  0  0  0  0  0  0  0  0  0  0]\n",
      " [ 0  0  0  0  0  1 41 89  7  0  0  0  0  0  0  0  0  0  0]\n",
      " [ 0  0  0  0  0  0 28 91 13  0  0  0  0  0  0  0  0  0  0]\n",
      " [ 0  0  0  0  0  0 18 84 17  0  0  0  0  0  0  0  0  0  0]\n",
      " [ 0  0  0  0  0  0  5 30  7  0  0  0  0  0  0  0  0  0  0]\n",
      " [ 0  0  0  0  0  0  0  1  0  0  0  0  0  0  0  0  0  0  0]\n",
      " [ 0  0  0  0  0  0  0  0  0  0  0  0  0  0  0  0  0  0  0]]\n"
     ]
    }
   ],
   "source": [
    "#n_img = expand_dims(my_img, 0)\n",
    "x = imread('O:\\\\Data\\\\HORUS\\\\img_test.png', mode='L')\n",
    "x = np.invert(x)\n",
    "\n",
    "# Visualize new array\n",
    "imsave('resized.png', x)\n",
    "x = imresize(x,(28,28))\n",
    "\n",
    "viz = imresize(x,(19,19))\n",
    "print(viz)"
   ]
  },
  {
   "cell_type": "code",
   "execution_count": 4,
   "metadata": {
    "collapsed": true
   },
   "outputs": [],
   "source": [
    "# reshape image data for use in neural network\n",
    "x = x.reshape(1,28,28,1)\n",
    "\n",
    "# Convert type to float32\n",
    "x = x.astype('float32')\n",
    "# Normalize to prevent issues with model\n",
    "x /= 255"
   ]
  },
  {
   "cell_type": "code",
   "execution_count": 5,
   "metadata": {},
   "outputs": [
    {
     "name": "stdout",
     "output_type": "stream",
     "text": [
      "Loaded model from disk\n"
     ]
    }
   ],
   "source": [
    "yaml_file = open('O:\\\\Data\\\\HORUS\\\\model.yaml', 'r')\n",
    "loaded_model_yaml = yaml_file.read()\n",
    "yaml_file.close()\n",
    "loaded_model = model_from_yaml(loaded_model_yaml)\n",
    "\n",
    "# load weights into new model\n",
    "loaded_model.load_weights(\"O:\\\\Data\\\\HORUS\\\\model.h5\")\n",
    "print(\"Loaded model from disk\")"
   ]
  },
  {
   "cell_type": "code",
   "execution_count": 6,
   "metadata": {
    "scrolled": true
   },
   "outputs": [
    {
     "name": "stdout",
     "output_type": "stream",
     "text": [
      "[[  2.30075466e-03   5.14860207e-04   2.67487695e-03   7.99509115e-04\n",
      "    9.37447621e-05   2.36581822e-04   1.27193334e-05   2.46512238e-02\n",
      "    3.53636406e-03   1.32223440e-03   3.63356230e-04   3.32452968e-04\n",
      "    1.72782945e-03   5.49593940e-03   1.19119868e-04   1.55979674e-02\n",
      "    7.05913990e-05   2.25704469e-04   2.58736801e-03   6.37947873e-04\n",
      "    3.71155293e-05   1.85470162e-05   2.25056006e-04   3.86198564e-03\n",
      "    4.60675405e-03   5.47463834e-01   4.11246787e-04   6.03490218e-04\n",
      "    5.34914143e-04   1.31586650e-02   4.54346940e-04   2.77195731e-03\n",
      "    2.15746972e-04   5.10829886e-05   1.82331807e-03   4.01955942e-04\n",
      "    4.66312631e-04   6.19019702e-05   7.94810941e-04   1.04702194e-04\n",
      "    3.78799252e-03   4.44862107e-03   1.84681820e-04   6.53301822e-06\n",
      "    1.37726974e-03   7.77168141e-04   5.96285608e-05   1.02099159e-03\n",
      "    1.69668434e-04   7.92966632e-04   2.26864545e-03   2.98435718e-01\n",
      "    1.90422899e-04   3.25415395e-02   1.77123860e-04   8.50100815e-03\n",
      "    8.83202374e-05   2.06788769e-03   7.02773395e-04   2.42100286e-04\n",
      "    1.98486450e-04   5.91517484e-04]]\n"
     ]
    }
   ],
   "source": [
    "out = loaded_model.predict(x)\n",
    "print(out)"
   ]
  },
  {
   "cell_type": "code",
   "execution_count": 13,
   "metadata": {},
   "outputs": [
    {
     "name": "stdout",
     "output_type": "stream",
     "text": [
      "P\n"
     ]
    }
   ],
   "source": [
    "mapping = pickle.load(open('O:\\\\Data\\\\HORUS\\\\mapping.p', 'rb'))\n",
    "response = chr(mapping[(int(np.argmax(out, axis=1)[0]))])\n",
    "print(response)"
   ]
  }
 ],
 "metadata": {
  "kernelspec": {
   "display_name": "Python 3",
   "language": "python",
   "name": "python3"
  },
  "language_info": {
   "codemirror_mode": {
    "name": "ipython",
    "version": 3
   },
   "file_extension": ".py",
   "mimetype": "text/x-python",
   "name": "python",
   "nbconvert_exporter": "python",
   "pygments_lexer": "ipython3",
   "version": "3.6.2"
  }
 },
 "nbformat": 4,
 "nbformat_minor": 2
}
